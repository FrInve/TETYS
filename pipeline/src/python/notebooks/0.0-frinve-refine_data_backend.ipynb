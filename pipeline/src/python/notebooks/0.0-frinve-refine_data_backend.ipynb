{
 "cells": [
  {
   "cell_type": "code",
   "execution_count": 1,
   "metadata": {},
   "outputs": [
    {
     "data": {
      "text/plain": [
       "'/home/invernici/TETYS/pipeline/src/python/notebooks'"
      ]
     },
     "execution_count": 1,
     "metadata": {},
     "output_type": "execute_result"
    }
   ],
   "source": [
    "%pwd"
   ]
  },
  {
   "cell_type": "code",
   "execution_count": 2,
   "metadata": {},
   "outputs": [
    {
     "name": "stdout",
     "output_type": "stream",
     "text": [
      "/home/invernici/TETYS/dashboard/backend/resources/projects\n"
     ]
    }
   ],
   "source": [
    "%cd ../../../../dashboard/backend/resources/projects/"
   ]
  },
  {
   "cell_type": "code",
   "execution_count": 3,
   "metadata": {},
   "outputs": [],
   "source": [
    "import duckdb\n",
    "import pandas as pd"
   ]
  },
  {
   "cell_type": "code",
   "execution_count": 4,
   "metadata": {},
   "outputs": [],
   "source": [
    "GROUP_NO=1"
   ]
  },
  {
   "cell_type": "markdown",
   "metadata": {},
   "source": [
    "## Read the parquet file"
   ]
  },
  {
   "cell_type": "code",
   "execution_count": 5,
   "metadata": {},
   "outputs": [],
   "source": [
    "cmd = f\"\"\"\n",
    "CREATE TABLE metadata_clean AS SELECT * FROM read_parquet('./group{GROUP_NO}/metadata.parquet')\n",
    "\"\"\"\n",
    "\n",
    "duckdb.query(cmd)"
   ]
  },
  {
   "cell_type": "markdown",
   "metadata": {},
   "source": [
    "```python\n",
    "Index(['Unnamed: 0', 'prism_doi', 'prism_issn', 'dc_identifier', 'eid',\n",
    "       'dc_title', 'abstract', 'prism_aggregation_type', 'prism_url',\n",
    "       'prism_volume', 'openaccess', 'language', 'dc_publisher', 'pubmed_id',\n",
    "       'author_keywords', 'subject_area', 'authors', 'prism_cover_date',\n",
    "       'abstract2', 'pub_year', 'pub_month', 'pub_day', 'full_text',\n",
    "       '__index_level_0__'],\n",
    "      dtype='object')\n",
    "\n",
    "```"
   ]
  },
  {
   "cell_type": "code",
   "execution_count": 6,
   "metadata": {},
   "outputs": [
    {
     "data": {
      "text/plain": [
       "┌────────────┬─────────────┬───────────────┐\n",
       "│ total_rows │ unique_rows │ non_null_rows │\n",
       "│   int64    │    int64    │     int64     │\n",
       "├────────────┼─────────────┼───────────────┤\n",
       "│      33769 │       33769 │         33769 │\n",
       "└────────────┴─────────────┴───────────────┘"
      ]
     },
     "execution_count": 6,
     "metadata": {},
     "output_type": "execute_result"
    }
   ],
   "source": [
    "duckdb.query(\"\"\"\n",
    "SELECT \n",
    "    COUNT(*) AS total_rows,\n",
    "    COUNT(DISTINCT prism_doi) AS unique_rows,\n",
    "    COUNT(prism_doi) AS non_null_rows\n",
    "FROM \n",
    "    metadata_clean;\"\"\")"
   ]
  },
  {
   "cell_type": "markdown",
   "metadata": {},
   "source": [
    "## Add authors_name and authors_name_shortened columns"
   ]
  },
  {
   "cell_type": "code",
   "execution_count": 7,
   "metadata": {},
   "outputs": [],
   "source": [
    "duckdb.query(\"ALTER TABLE metadata_clean ADD COLUMN authors_names VARCHAR;\")"
   ]
  },
  {
   "cell_type": "code",
   "execution_count": 8,
   "metadata": {},
   "outputs": [],
   "source": [
    "duckdb.query(\"\"\"\n",
    "UPDATE metadata_clean AS mc\n",
    "SET authors_names = (\n",
    "    SELECT \n",
    "        CASE\n",
    "            WHEN len((new.authors::JSON)->'$[*].*[0]')> 1\n",
    "            THEN list_reduce(((new.authors::JSON)->>'$[*].*[0]'), (x,y) -> concat_ws(', ', x, y))::VARCHAR\n",
    "            ELSE coalesce((authors::JSON)->>'$[*].*[0]', '')::VARCHAR\n",
    "        END\n",
    "    FROM metadata_clean AS new\n",
    "    WHERE mc.prism_doi = new.prism_doi\n",
    "    )\n",
    "\"\"\")"
   ]
  },
  {
   "cell_type": "code",
   "execution_count": 9,
   "metadata": {},
   "outputs": [],
   "source": [
    "duckdb.query(\"ALTER TABLE metadata_clean ADD COLUMN authors_names_shortened VARCHAR;\")"
   ]
  },
  {
   "cell_type": "code",
   "execution_count": 10,
   "metadata": {},
   "outputs": [],
   "source": [
    "# duckdb.query(\"\"\"\n",
    "# UPDATE metadata_clean AS mc\n",
    "# SET authors_names_shortened = (\n",
    "#     SELECT \n",
    "#         CASE\n",
    "#             WHEN len((new.authors::JSON)->'$[*].*[0]')> 3\n",
    "#             THEN list_reduce(((new.authors::JSON)->>'$[*].*[0]')[0:3], (x,y) -> concat_ws(', ', x, y))::VARCHAR || ' et al.'\n",
    "#             WHEN len((new.authors::JSON)->'$[*].*[0]')> 1 AND len((new.authors::JSON)->'$[*].*[0]') <= 3\n",
    "#             THEN list_reduce(((new.authors::JSON)->>'$[*].*[0]'), (x,y) -> concat_ws(', ', x, y))::VARCHAR\n",
    "#             ELSE coalesce(((authors::JSON)->>'$[*].*[0]'), '')::VARCHAR\n",
    "#         END\n",
    "#     FROM metadata_clean AS new\n",
    "#     WHERE mc.prism_doi = new.prism_doi\n",
    "#     )\n",
    "# \"\"\")"
   ]
  },
  {
   "cell_type": "code",
   "execution_count": 11,
   "metadata": {},
   "outputs": [],
   "source": [
    "duckdb.query(\"\"\"\n",
    "UPDATE metadata_clean AS mc\n",
    "SET authors_names_shortened = (\n",
    "    SELECT \n",
    "        CASE\n",
    "            WHEN len((new.authors::JSON)->'$[*].*[0]')> 3\n",
    "            THEN list_reduce(((new.authors::JSON)->>'$[*].*[0]')[0:3], (x,y) -> concat_ws(', ', x, y))::VARCHAR || ' et al.'\n",
    "            WHEN len((new.authors::JSON)->'$[*].*[0]')> 0 AND len((new.authors::JSON)->'$[*].*[0]') <= 3\n",
    "            THEN list_reduce(((new.authors::JSON)->>'$[*].*[0]'), (x,y) -> concat_ws(', ', x, y))::VARCHAR\n",
    "            ELSE ''::VARCHAR\n",
    "        END\n",
    "    FROM metadata_clean AS new\n",
    "    WHERE mc.prism_doi = new.prism_doi\n",
    "    )\n",
    "\"\"\")"
   ]
  },
  {
   "cell_type": "markdown",
   "metadata": {},
   "source": [
    "### Test"
   ]
  },
  {
   "cell_type": "code",
   "execution_count": 12,
   "metadata": {},
   "outputs": [],
   "source": [
    "df = duckdb.query(\"\"\"\n",
    "SELECT (new.authors::JSON)->>'$[*].*[0]' as au, list_reduce((new.authors::JSON)->>'$[*].*[0]', (x,y) -> concat_ws(', ', x, y)) as au_str, authors_names, authors_names_shortened\n",
    "    FROM metadata_clean AS new\n",
    "   WHERE len(au) > 1\n",
    "\"\"\").df()\n",
    "#df.rename(columns = {df.columns[0] : \"author_names\"},inplace=True)"
   ]
  },
  {
   "cell_type": "code",
   "execution_count": 13,
   "metadata": {},
   "outputs": [
    {
     "data": {
      "text/html": [
       "<div>\n",
       "<style scoped>\n",
       "    .dataframe tbody tr th:only-of-type {\n",
       "        vertical-align: middle;\n",
       "    }\n",
       "\n",
       "    .dataframe tbody tr th {\n",
       "        vertical-align: top;\n",
       "    }\n",
       "\n",
       "    .dataframe thead th {\n",
       "        text-align: right;\n",
       "    }\n",
       "</style>\n",
       "<table border=\"1\" class=\"dataframe\">\n",
       "  <thead>\n",
       "    <tr style=\"text-align: right;\">\n",
       "      <th></th>\n",
       "      <th>au</th>\n",
       "      <th>au_str</th>\n",
       "      <th>authors_names</th>\n",
       "      <th>authors_names_shortened</th>\n",
       "    </tr>\n",
       "  </thead>\n",
       "  <tbody>\n",
       "    <tr>\n",
       "      <th>0</th>\n",
       "      <td>[Paranhos J., Hasenclever L., Perin F.S.]</td>\n",
       "      <td>Paranhos J., Hasenclever L., Perin F.S.</td>\n",
       "      <td>Paranhos J., Hasenclever L., Perin F.S.</td>\n",
       "      <td>Paranhos J., Hasenclever L., Perin F.S.</td>\n",
       "    </tr>\n",
       "    <tr>\n",
       "      <th>1</th>\n",
       "      <td>[Racaj M., Agushi A., Racaj A.]</td>\n",
       "      <td>Racaj M., Agushi A., Racaj A.</td>\n",
       "      <td>Racaj M., Agushi A., Racaj A.</td>\n",
       "      <td>Racaj M., Agushi A., Racaj A.</td>\n",
       "    </tr>\n",
       "    <tr>\n",
       "      <th>2</th>\n",
       "      <td>[Ruiz L.A., King L.F.E., Castillo T.I.L., Garc...</td>\n",
       "      <td>Ruiz L.A., King L.F.E., Castillo T.I.L., Garci...</td>\n",
       "      <td>Ruiz L.A., King L.F.E., Castillo T.I.L., Garci...</td>\n",
       "      <td>Ruiz L.A., King L.F.E., Castillo T.I.L. et al.</td>\n",
       "    </tr>\n",
       "    <tr>\n",
       "      <th>3</th>\n",
       "      <td>[Gaumer G., Crown W.H., Kates J., Luan Y., Har...</td>\n",
       "      <td>Gaumer G., Crown W.H., Kates J., Luan Y., Hari...</td>\n",
       "      <td>Gaumer G., Crown W.H., Kates J., Luan Y., Hari...</td>\n",
       "      <td>Gaumer G., Crown W.H., Kates J. et al.</td>\n",
       "    </tr>\n",
       "    <tr>\n",
       "      <th>4</th>\n",
       "      <td>[Jain R., Gaur A., Suravajhala R., Chauhan U.,...</td>\n",
       "      <td>Jain R., Gaur A., Suravajhala R., Chauhan U., ...</td>\n",
       "      <td>Jain R., Gaur A., Suravajhala R., Chauhan U., ...</td>\n",
       "      <td>Jain R., Gaur A., Suravajhala R. et al.</td>\n",
       "    </tr>\n",
       "  </tbody>\n",
       "</table>\n",
       "</div>"
      ],
      "text/plain": [
       "                                                  au  \\\n",
       "0          [Paranhos J., Hasenclever L., Perin F.S.]   \n",
       "1                    [Racaj M., Agushi A., Racaj A.]   \n",
       "2  [Ruiz L.A., King L.F.E., Castillo T.I.L., Garc...   \n",
       "3  [Gaumer G., Crown W.H., Kates J., Luan Y., Har...   \n",
       "4  [Jain R., Gaur A., Suravajhala R., Chauhan U.,...   \n",
       "\n",
       "                                              au_str  \\\n",
       "0            Paranhos J., Hasenclever L., Perin F.S.   \n",
       "1                      Racaj M., Agushi A., Racaj A.   \n",
       "2  Ruiz L.A., King L.F.E., Castillo T.I.L., Garci...   \n",
       "3  Gaumer G., Crown W.H., Kates J., Luan Y., Hari...   \n",
       "4  Jain R., Gaur A., Suravajhala R., Chauhan U., ...   \n",
       "\n",
       "                                       authors_names  \\\n",
       "0            Paranhos J., Hasenclever L., Perin F.S.   \n",
       "1                      Racaj M., Agushi A., Racaj A.   \n",
       "2  Ruiz L.A., King L.F.E., Castillo T.I.L., Garci...   \n",
       "3  Gaumer G., Crown W.H., Kates J., Luan Y., Hari...   \n",
       "4  Jain R., Gaur A., Suravajhala R., Chauhan U., ...   \n",
       "\n",
       "                          authors_names_shortened  \n",
       "0         Paranhos J., Hasenclever L., Perin F.S.  \n",
       "1                   Racaj M., Agushi A., Racaj A.  \n",
       "2  Ruiz L.A., King L.F.E., Castillo T.I.L. et al.  \n",
       "3          Gaumer G., Crown W.H., Kates J. et al.  \n",
       "4         Jain R., Gaur A., Suravajhala R. et al.  "
      ]
     },
     "execution_count": 13,
     "metadata": {},
     "output_type": "execute_result"
    }
   ],
   "source": [
    "df.head()"
   ]
  },
  {
   "cell_type": "code",
   "execution_count": 14,
   "metadata": {},
   "outputs": [
    {
     "data": {
      "text/html": [
       "<div>\n",
       "<style scoped>\n",
       "    .dataframe tbody tr th:only-of-type {\n",
       "        vertical-align: middle;\n",
       "    }\n",
       "\n",
       "    .dataframe tbody tr th {\n",
       "        vertical-align: top;\n",
       "    }\n",
       "\n",
       "    .dataframe thead th {\n",
       "        text-align: right;\n",
       "    }\n",
       "</style>\n",
       "<table border=\"1\" class=\"dataframe\">\n",
       "  <thead>\n",
       "    <tr style=\"text-align: right;\">\n",
       "      <th></th>\n",
       "      <th>au</th>\n",
       "      <th>au_str</th>\n",
       "      <th>authors_names</th>\n",
       "      <th>authors_names_shortened</th>\n",
       "    </tr>\n",
       "  </thead>\n",
       "  <tbody>\n",
       "  </tbody>\n",
       "</table>\n",
       "</div>"
      ],
      "text/plain": [
       "Empty DataFrame\n",
       "Columns: [au, au_str, authors_names, authors_names_shortened]\n",
       "Index: []"
      ]
     },
     "execution_count": 14,
     "metadata": {},
     "output_type": "execute_result"
    }
   ],
   "source": [
    "df[ df.au_str != df.authors_names]"
   ]
  },
  {
   "cell_type": "code",
   "execution_count": 15,
   "metadata": {},
   "outputs": [],
   "source": [
    "df = duckdb.query(\"\"\"\n",
    "SELECT (new.authors::JSON)->>'$[*].*[0]' as au, list_reduce((new.authors::JSON)->>'$[*].*[0]', (x,y) -> concat_ws(', ', x, y)) as au_str, authors_names, authors_names_shortened\n",
    "    FROM metadata_clean AS new\n",
    "   WHERE len(au) = 1\n",
    "\"\"\").df()\n",
    "#df.rename(columns = {df.columns[0] : \"author_names\"},inplace=True)"
   ]
  },
  {
   "cell_type": "code",
   "execution_count": 16,
   "metadata": {},
   "outputs": [
    {
     "data": {
      "text/html": [
       "<div>\n",
       "<style scoped>\n",
       "    .dataframe tbody tr th:only-of-type {\n",
       "        vertical-align: middle;\n",
       "    }\n",
       "\n",
       "    .dataframe tbody tr th {\n",
       "        vertical-align: top;\n",
       "    }\n",
       "\n",
       "    .dataframe thead th {\n",
       "        text-align: right;\n",
       "    }\n",
       "</style>\n",
       "<table border=\"1\" class=\"dataframe\">\n",
       "  <thead>\n",
       "    <tr style=\"text-align: right;\">\n",
       "      <th></th>\n",
       "      <th>au</th>\n",
       "      <th>au_str</th>\n",
       "      <th>authors_names</th>\n",
       "      <th>authors_names_shortened</th>\n",
       "    </tr>\n",
       "  </thead>\n",
       "  <tbody>\n",
       "    <tr>\n",
       "      <th>0</th>\n",
       "      <td>[Bell C.]</td>\n",
       "      <td>Bell C.</td>\n",
       "      <td>[Bell C.]</td>\n",
       "      <td>Bell C.</td>\n",
       "    </tr>\n",
       "    <tr>\n",
       "      <th>1</th>\n",
       "      <td>[Vedeshin L.A.]</td>\n",
       "      <td>Vedeshin L.A.</td>\n",
       "      <td>[Vedeshin L.A.]</td>\n",
       "      <td>Vedeshin L.A.</td>\n",
       "    </tr>\n",
       "    <tr>\n",
       "      <th>2</th>\n",
       "      <td>[Wu M.]</td>\n",
       "      <td>Wu M.</td>\n",
       "      <td>[Wu M.]</td>\n",
       "      <td>Wu M.</td>\n",
       "    </tr>\n",
       "    <tr>\n",
       "      <th>3</th>\n",
       "      <td>[Kim K.O.]</td>\n",
       "      <td>Kim K.O.</td>\n",
       "      <td>[Kim K.O.]</td>\n",
       "      <td>Kim K.O.</td>\n",
       "    </tr>\n",
       "    <tr>\n",
       "      <th>4</th>\n",
       "      <td>[Nordlund C.]</td>\n",
       "      <td>Nordlund C.</td>\n",
       "      <td>[Nordlund C.]</td>\n",
       "      <td>Nordlund C.</td>\n",
       "    </tr>\n",
       "  </tbody>\n",
       "</table>\n",
       "</div>"
      ],
      "text/plain": [
       "                au         au_str    authors_names authors_names_shortened\n",
       "0        [Bell C.]        Bell C.        [Bell C.]                 Bell C.\n",
       "1  [Vedeshin L.A.]  Vedeshin L.A.  [Vedeshin L.A.]           Vedeshin L.A.\n",
       "2          [Wu M.]          Wu M.          [Wu M.]                   Wu M.\n",
       "3       [Kim K.O.]       Kim K.O.       [Kim K.O.]                Kim K.O.\n",
       "4    [Nordlund C.]    Nordlund C.    [Nordlund C.]             Nordlund C."
      ]
     },
     "execution_count": 16,
     "metadata": {},
     "output_type": "execute_result"
    }
   ],
   "source": [
    "df.head()"
   ]
  },
  {
   "cell_type": "markdown",
   "metadata": {},
   "source": [
    "## Add the doi_url column"
   ]
  },
  {
   "cell_type": "code",
   "execution_count": 17,
   "metadata": {},
   "outputs": [],
   "source": [
    "duckdb.query(\"ALTER TABLE metadata_clean ADD COLUMN doi_url VARCHAR;\")"
   ]
  },
  {
   "cell_type": "code",
   "execution_count": 18,
   "metadata": {},
   "outputs": [],
   "source": [
    "duckdb.query(\"\"\"\n",
    "UPDATE metadata_clean AS mc\n",
    "SET doi_url = (\n",
    "    SELECT concat('https://doi.org/', new.prism_doi)\n",
    "    FROM metadata_clean AS new\n",
    "    WHERE mc.prism_doi = new.prism_doi\n",
    ")\n",
    "\"\"\")"
   ]
  },
  {
   "cell_type": "markdown",
   "metadata": {},
   "source": [
    "### Test"
   ]
  },
  {
   "cell_type": "code",
   "execution_count": 19,
   "metadata": {},
   "outputs": [
    {
     "data": {
      "text/plain": [
       "┌─────────────────────────────────┬─────────────────────────────────────────────────┐\n",
       "│            prism_doi            │                     doi_url                     │\n",
       "│             varchar             │                     varchar                     │\n",
       "├─────────────────────────────────┼─────────────────────────────────────────────────┤\n",
       "│ 10.1007/978-3-031-38894-1       │ https://doi.org/10.1007/978-3-031-38894-1       │\n",
       "│ 10.1017/jme.2023.118            │ https://doi.org/10.1017/jme.2023.118            │\n",
       "│ 10.47305/JLIA2393516r           │ https://doi.org/10.47305/JLIA2393516r           │\n",
       "│ 10.33423/jhetp.v23i18.6631      │ https://doi.org/10.33423/jhetp.v23i18.6631      │\n",
       "│ 10.1136/bmjopen-2022-070221     │ https://doi.org/10.1136/bmjopen-2022-070221     │\n",
       "│ 10.1016/j.scitotenv.2023.167098 │ https://doi.org/10.1016/j.scitotenv.2023.167098 │\n",
       "│ 10.3233/ATDE230999              │ https://doi.org/10.3233/ATDE230999              │\n",
       "│ 10.1016/j.atmosenv.2023.120137  │ https://doi.org/10.1016/j.atmosenv.2023.120137  │\n",
       "│ 10.1016/j.jenvman.2023.119422   │ https://doi.org/10.1016/j.jenvman.2023.119422   │\n",
       "│ 10.1016/j.envres.2023.117291    │ https://doi.org/10.1016/j.envres.2023.117291    │\n",
       "├─────────────────────────────────┴─────────────────────────────────────────────────┤\n",
       "│ 10 rows                                                                 2 columns │\n",
       "└───────────────────────────────────────────────────────────────────────────────────┘"
      ]
     },
     "execution_count": 19,
     "metadata": {},
     "output_type": "execute_result"
    }
   ],
   "source": [
    "duckdb.query(\"SELECT prism_doi, doi_url FROM metadata_clean LIMIT 10\")"
   ]
  },
  {
   "cell_type": "markdown",
   "metadata": {},
   "source": [
    "## Add the date_ref column"
   ]
  },
  {
   "cell_type": "code",
   "execution_count": 20,
   "metadata": {},
   "outputs": [],
   "source": [
    "duckdb.query(\"ALTER TABLE metadata_clean ADD COLUMN date_ref VARCHAR;\")"
   ]
  },
  {
   "cell_type": "code",
   "execution_count": 21,
   "metadata": {},
   "outputs": [],
   "source": [
    "duckdb.query(\"\"\"\n",
    "UPDATE metadata_clean AS mc\n",
    "SET date_ref = (\n",
    "    SELECT strftime(prism_cover_date, '%Y-%m-%d')\n",
    "    FROM metadata_clean AS new\n",
    "    WHERE mc.prism_doi = new.prism_doi\n",
    ")\n",
    "\"\"\")"
   ]
  },
  {
   "cell_type": "markdown",
   "metadata": {},
   "source": [
    "### Test"
   ]
  },
  {
   "cell_type": "code",
   "execution_count": 22,
   "metadata": {},
   "outputs": [
    {
     "data": {
      "text/plain": [
       "┌─────────────────────┬────────────────────────────────────────┬────────────┐\n",
       "│  prism_cover_date   │ strftime(prism_cover_date, '%Y-%m-%d') │  date_ref  │\n",
       "│      timestamp      │                varchar                 │  varchar   │\n",
       "├─────────────────────┼────────────────────────────────────────┼────────────┤\n",
       "│ 2023-12-30 00:00:00 │ 2023-12-30                             │ 2023-12-30 │\n",
       "│ 2023-12-29 00:00:00 │ 2023-12-29                             │ 2023-12-29 │\n",
       "│ 2023-12-26 00:00:00 │ 2023-12-26                             │ 2023-12-26 │\n",
       "│ 2023-12-22 00:00:00 │ 2023-12-22                             │ 2023-12-22 │\n",
       "│ 2023-12-21 00:00:00 │ 2023-12-21                             │ 2023-12-21 │\n",
       "│ 2023-12-20 00:00:00 │ 2023-12-20                             │ 2023-12-20 │\n",
       "│ 2023-12-15 00:00:00 │ 2023-12-15                             │ 2023-12-15 │\n",
       "│ 2023-12-15 00:00:00 │ 2023-12-15                             │ 2023-12-15 │\n",
       "│ 2023-12-15 00:00:00 │ 2023-12-15                             │ 2023-12-15 │\n",
       "│ 2023-12-15 00:00:00 │ 2023-12-15                             │ 2023-12-15 │\n",
       "├─────────────────────┴────────────────────────────────────────┴────────────┤\n",
       "│ 10 rows                                                         3 columns │\n",
       "└───────────────────────────────────────────────────────────────────────────┘"
      ]
     },
     "execution_count": 22,
     "metadata": {},
     "output_type": "execute_result"
    }
   ],
   "source": [
    "duckdb.query(\"SELECT prism_cover_date, strftime(prism_cover_date, '%Y-%m-%d'), date_ref FROM metadata_clean LIMIT 10\")"
   ]
  },
  {
   "cell_type": "markdown",
   "metadata": {},
   "source": [
    "## Write final result"
   ]
  },
  {
   "cell_type": "code",
   "execution_count": 23,
   "metadata": {},
   "outputs": [],
   "source": [
    "duckdb.query(f\"COPY metadata_clean TO './group{GROUP_NO}/metadata_prepared.parquet' (FORMAT 'parquet');\")"
   ]
  }
 ],
 "metadata": {
  "kernelspec": {
   "display_name": "tetys_backend",
   "language": "python",
   "name": "python3"
  },
  "language_info": {
   "codemirror_mode": {
    "name": "ipython",
    "version": 3
   },
   "file_extension": ".py",
   "mimetype": "text/x-python",
   "name": "python",
   "nbconvert_exporter": "python",
   "pygments_lexer": "ipython3",
   "version": "3.10.14"
  }
 },
 "nbformat": 4,
 "nbformat_minor": 2
}
