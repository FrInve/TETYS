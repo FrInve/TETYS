{
 "cells": [
  {
   "cell_type": "code",
   "execution_count": 51,
   "metadata": {},
   "outputs": [],
   "source": [
    "import pandas as pd\n",
    "from sklearn.metrics import precision_recall_fscore_support"
   ]
  },
  {
   "cell_type": "code",
   "execution_count": 2,
   "metadata": {},
   "outputs": [],
   "source": [
    "df = pd.read_excel(\"../data/raw/cortoviz_evaluation/articles_test_AB.xlsx\")"
   ]
  },
  {
   "cell_type": "code",
   "execution_count": 4,
   "metadata": {},
   "outputs": [
    {
     "data": {
      "text/html": [
       "<div>\n",
       "<style scoped>\n",
       "    .dataframe tbody tr th:only-of-type {\n",
       "        vertical-align: middle;\n",
       "    }\n",
       "\n",
       "    .dataframe tbody tr th {\n",
       "        vertical-align: top;\n",
       "    }\n",
       "\n",
       "    .dataframe thead th {\n",
       "        text-align: right;\n",
       "    }\n",
       "</style>\n",
       "<table border=\"1\" class=\"dataframe\">\n",
       "  <thead>\n",
       "    <tr style=\"text-align: right;\">\n",
       "      <th></th>\n",
       "      <th>doi</th>\n",
       "      <th>url_web</th>\n",
       "      <th>title</th>\n",
       "      <th>abstract</th>\n",
       "      <th>creators</th>\n",
       "      <th>onlineDate</th>\n",
       "      <th>publicationName</th>\n",
       "      <th>keyword (springer)</th>\n",
       "      <th>subjects (springer)</th>\n",
       "      <th>topic_id</th>\n",
       "      <th>...</th>\n",
       "      <th>TOPIC_ID CORRETTO</th>\n",
       "      <th>Alternativa</th>\n",
       "      <th>TP</th>\n",
       "      <th>TP-relaxed</th>\n",
       "      <th>TN</th>\n",
       "      <th>TN-relaxed</th>\n",
       "      <th>Unnamed: 19</th>\n",
       "      <th>Unnamed: 20</th>\n",
       "      <th>Unnamed: 21</th>\n",
       "      <th>ALTRENOTE</th>\n",
       "    </tr>\n",
       "  </thead>\n",
       "  <tbody>\n",
       "    <tr>\n",
       "      <th>0</th>\n",
       "      <td>10.1186/s12889-022-14346-8</td>\n",
       "      <td>https://www.biomedcentral.com/openurl?doi=10.1...</td>\n",
       "      <td>Water, sanitation, hygiene practices, health a...</td>\n",
       "      <td>Background The COVID-19 pandemic drew hygiene ...</td>\n",
       "      <td>[{'creator': 'Shrestha, Akina'}, {'creator': '...</td>\n",
       "      <td>2022-11-07</td>\n",
       "      <td>BMC Public Health</td>\n",
       "      <td>['COVID-19', 'Water', 'Sanitation', 'Hygiene',...</td>\n",
       "      <td>['Medicine &amp; Public Health', 'Public Health', ...</td>\n",
       "      <td>92.0</td>\n",
       "      <td>...</td>\n",
       "      <td>92.0</td>\n",
       "      <td>60.0</td>\n",
       "      <td>1</td>\n",
       "      <td>1</td>\n",
       "      <td>0</td>\n",
       "      <td>0</td>\n",
       "      <td>NaN</td>\n",
       "      <td>NaN</td>\n",
       "      <td>NaN</td>\n",
       "      <td>NaN</td>\n",
       "    </tr>\n",
       "    <tr>\n",
       "      <th>1</th>\n",
       "      <td>10.1186/s12903-022-02432-7</td>\n",
       "      <td>https://www.biomedcentral.com/openurl?doi=10.1...</td>\n",
       "      <td>COVID-19 as an opportunity for minimally-invas...</td>\n",
       "      <td>Background During the COVID19 pandemic, the La...</td>\n",
       "      <td>[{'ORCID': '0000-0002-5967-956X', 'creator': '...</td>\n",
       "      <td>2022-09-12</td>\n",
       "      <td>BMC Oral Health</td>\n",
       "      <td>['COVID-19', 'Dentistry', 'Survey research', '...</td>\n",
       "      <td>['Dentistry', 'Dentistry', 'Oral and Maxillofa...</td>\n",
       "      <td>63.0</td>\n",
       "      <td>...</td>\n",
       "      <td>63.0</td>\n",
       "      <td>326.0</td>\n",
       "      <td>1</td>\n",
       "      <td>1</td>\n",
       "      <td>0</td>\n",
       "      <td>0</td>\n",
       "      <td>NaN</td>\n",
       "      <td>NaN</td>\n",
       "      <td>NaN</td>\n",
       "      <td>NaN</td>\n",
       "    </tr>\n",
       "    <tr>\n",
       "      <th>2</th>\n",
       "      <td>10.1186/s12916-022-02543-6</td>\n",
       "      <td>https://www.biomedcentral.com/openurl?doi=10.1...</td>\n",
       "      <td>Characterising social contacts under COVID-19 ...</td>\n",
       "      <td>Background Early in the COVID-19 pandemic, cou...</td>\n",
       "      <td>[{'ORCID': '0000-0003-2212-4314', 'creator': '...</td>\n",
       "      <td>2022-10-12</td>\n",
       "      <td>BMC Medicine</td>\n",
       "      <td>['COVID-19', 'SARS-CoV-2', 'Social contacts', ...</td>\n",
       "      <td>['Medicine &amp; Public Health', 'Medicine/Public ...</td>\n",
       "      <td>239.0</td>\n",
       "      <td>...</td>\n",
       "      <td>104.0</td>\n",
       "      <td>0.0</td>\n",
       "      <td>0</td>\n",
       "      <td>0</td>\n",
       "      <td>0</td>\n",
       "      <td>0</td>\n",
       "      <td>NaN</td>\n",
       "      <td>NaN</td>\n",
       "      <td>NaN</td>\n",
       "      <td>NaN</td>\n",
       "    </tr>\n",
       "    <tr>\n",
       "      <th>3</th>\n",
       "      <td>10.1007/s41742-022-00474-x</td>\n",
       "      <td>http://link.springer.com/openurl/fulltext?id=d...</td>\n",
       "      <td>The Impact of COVID-19 Outbreak on Camping Tou...</td>\n",
       "      <td>The COVID-19 health crisis has wreaked devasta...</td>\n",
       "      <td>[{'ORCID': '0000-0001-5325-3667', 'creator': '...</td>\n",
       "      <td>2022-09-23</td>\n",
       "      <td>International Journal of Environmental Research</td>\n",
       "      <td>['Camping tourism', 'Nature destinations', 'Co...</td>\n",
       "      <td>['Environment', 'Environmental Management', 'E...</td>\n",
       "      <td>316.0</td>\n",
       "      <td>...</td>\n",
       "      <td>316.0</td>\n",
       "      <td>NaN</td>\n",
       "      <td>1</td>\n",
       "      <td>1</td>\n",
       "      <td>0</td>\n",
       "      <td>0</td>\n",
       "      <td>NaN</td>\n",
       "      <td>NaN</td>\n",
       "      <td>NaN</td>\n",
       "      <td>NaN</td>\n",
       "    </tr>\n",
       "    <tr>\n",
       "      <th>4</th>\n",
       "      <td>10.1007/s00406-022-01472-y</td>\n",
       "      <td>http://link.springer.com/openurl/fulltext?id=d...</td>\n",
       "      <td>Mental health and the effects on methylation o...</td>\n",
       "      <td>Healthcare workers experienced high degree of ...</td>\n",
       "      <td>[{'creator': 'Tabano, Silvia'}, {'creator': 'T...</td>\n",
       "      <td>2022-08-24</td>\n",
       "      <td>European Archives of Psychiatry and Clinical N...</td>\n",
       "      <td>['Health professionals', 'COVID-19', 'Mental h...</td>\n",
       "      <td>['Medicine &amp; Public Health', 'Psychiatry', 'Ne...</td>\n",
       "      <td>33.0</td>\n",
       "      <td>...</td>\n",
       "      <td>33.0</td>\n",
       "      <td>257.0</td>\n",
       "      <td>1</td>\n",
       "      <td>1</td>\n",
       "      <td>0</td>\n",
       "      <td>0</td>\n",
       "      <td>NaN</td>\n",
       "      <td>NaN</td>\n",
       "      <td>NaN</td>\n",
       "      <td>NaN</td>\n",
       "    </tr>\n",
       "  </tbody>\n",
       "</table>\n",
       "<p>5 rows × 23 columns</p>\n",
       "</div>"
      ],
      "text/plain": [
       "                          doi  \\\n",
       "0  10.1186/s12889-022-14346-8   \n",
       "1  10.1186/s12903-022-02432-7   \n",
       "2  10.1186/s12916-022-02543-6   \n",
       "3  10.1007/s41742-022-00474-x   \n",
       "4  10.1007/s00406-022-01472-y   \n",
       "\n",
       "                                             url_web  \\\n",
       "0  https://www.biomedcentral.com/openurl?doi=10.1...   \n",
       "1  https://www.biomedcentral.com/openurl?doi=10.1...   \n",
       "2  https://www.biomedcentral.com/openurl?doi=10.1...   \n",
       "3  http://link.springer.com/openurl/fulltext?id=d...   \n",
       "4  http://link.springer.com/openurl/fulltext?id=d...   \n",
       "\n",
       "                                               title  \\\n",
       "0  Water, sanitation, hygiene practices, health a...   \n",
       "1  COVID-19 as an opportunity for minimally-invas...   \n",
       "2  Characterising social contacts under COVID-19 ...   \n",
       "3  The Impact of COVID-19 Outbreak on Camping Tou...   \n",
       "4  Mental health and the effects on methylation o...   \n",
       "\n",
       "                                            abstract  \\\n",
       "0  Background The COVID-19 pandemic drew hygiene ...   \n",
       "1  Background During the COVID19 pandemic, the La...   \n",
       "2  Background Early in the COVID-19 pandemic, cou...   \n",
       "3  The COVID-19 health crisis has wreaked devasta...   \n",
       "4  Healthcare workers experienced high degree of ...   \n",
       "\n",
       "                                            creators  onlineDate  \\\n",
       "0  [{'creator': 'Shrestha, Akina'}, {'creator': '...  2022-11-07   \n",
       "1  [{'ORCID': '0000-0002-5967-956X', 'creator': '...  2022-09-12   \n",
       "2  [{'ORCID': '0000-0003-2212-4314', 'creator': '...  2022-10-12   \n",
       "3  [{'ORCID': '0000-0001-5325-3667', 'creator': '...  2022-09-23   \n",
       "4  [{'creator': 'Tabano, Silvia'}, {'creator': 'T...  2022-08-24   \n",
       "\n",
       "                                     publicationName  \\\n",
       "0                                  BMC Public Health   \n",
       "1                                    BMC Oral Health   \n",
       "2                                       BMC Medicine   \n",
       "3    International Journal of Environmental Research   \n",
       "4  European Archives of Psychiatry and Clinical N...   \n",
       "\n",
       "                                  keyword (springer)  \\\n",
       "0  ['COVID-19', 'Water', 'Sanitation', 'Hygiene',...   \n",
       "1  ['COVID-19', 'Dentistry', 'Survey research', '...   \n",
       "2  ['COVID-19', 'SARS-CoV-2', 'Social contacts', ...   \n",
       "3  ['Camping tourism', 'Nature destinations', 'Co...   \n",
       "4  ['Health professionals', 'COVID-19', 'Mental h...   \n",
       "\n",
       "                                 subjects (springer)  topic_id  ...  \\\n",
       "0  ['Medicine & Public Health', 'Public Health', ...      92.0  ...   \n",
       "1  ['Dentistry', 'Dentistry', 'Oral and Maxillofa...      63.0  ...   \n",
       "2  ['Medicine & Public Health', 'Medicine/Public ...     239.0  ...   \n",
       "3  ['Environment', 'Environmental Management', 'E...     316.0  ...   \n",
       "4  ['Medicine & Public Health', 'Psychiatry', 'Ne...      33.0  ...   \n",
       "\n",
       "   TOPIC_ID CORRETTO Alternativa TP  TP-relaxed  TN  TN-relaxed  Unnamed: 19  \\\n",
       "0               92.0        60.0  1           1   0           0          NaN   \n",
       "1               63.0       326.0  1           1   0           0          NaN   \n",
       "2              104.0         0.0  0           0   0           0          NaN   \n",
       "3              316.0         NaN  1           1   0           0          NaN   \n",
       "4               33.0       257.0  1           1   0           0          NaN   \n",
       "\n",
       "   Unnamed: 20  Unnamed: 21  ALTRENOTE  \n",
       "0          NaN          NaN        NaN  \n",
       "1          NaN          NaN        NaN  \n",
       "2          NaN          NaN        NaN  \n",
       "3          NaN          NaN        NaN  \n",
       "4          NaN          NaN        NaN  \n",
       "\n",
       "[5 rows x 23 columns]"
      ]
     },
     "execution_count": 4,
     "metadata": {},
     "output_type": "execute_result"
    }
   ],
   "source": [
    "df.head()"
   ]
  },
  {
   "cell_type": "code",
   "execution_count": 13,
   "metadata": {},
   "outputs": [],
   "source": [
    "df = df[df.doi.notna()]"
   ]
  },
  {
   "cell_type": "code",
   "execution_count": 14,
   "metadata": {},
   "outputs": [
    {
     "data": {
      "text/plain": [
       "(50, 23)"
      ]
     },
     "execution_count": 14,
     "metadata": {},
     "output_type": "execute_result"
    }
   ],
   "source": [
    "df.shape"
   ]
  },
  {
   "cell_type": "code",
   "execution_count": 18,
   "metadata": {},
   "outputs": [
    {
     "name": "stderr",
     "output_type": "stream",
     "text": [
      "/home/invernici/anaconda3/envs/text_analysis/lib/python3.10/site-packages/sklearn/metrics/_classification.py:1344: UndefinedMetricWarning: Precision and F-score are ill-defined and being set to 0.0 in labels with no predicted samples. Use `zero_division` parameter to control this behavior.\n",
      "  _warn_prf(average, modifier, msg_start, len(result))\n",
      "/home/invernici/anaconda3/envs/text_analysis/lib/python3.10/site-packages/sklearn/metrics/_classification.py:1344: UndefinedMetricWarning: Recall and F-score are ill-defined and being set to 0.0 in labels with no true samples. Use `zero_division` parameter to control this behavior.\n",
      "  _warn_prf(average, modifier, msg_start, len(result))\n"
     ]
    },
    {
     "data": {
      "text/plain": [
       "(0.685, 0.74, 0.7024761904761904, None)"
      ]
     },
     "execution_count": 18,
     "metadata": {},
     "output_type": "execute_result"
    }
   ],
   "source": [
    "precision_recall_fscore_support(df[[\"TOPIC_ID CORRETTO\"]], df[[\"topic_id\"]], average=\"weighted\")"
   ]
  },
  {
   "cell_type": "code",
   "execution_count": 31,
   "metadata": {},
   "outputs": [],
   "source": [
    "def relaxed_topic(row):\n",
    "    predicted_topic = row[[\"topic_id\"]][0]\n",
    "    true_topic = row[[\"TOPIC_ID CORRETTO\"]][0]\n",
    "    alternative_true_topic = row[[\"Alternativa\"]][0]\n",
    "\n",
    "    if predicted_topic == true_topic:\n",
    "        return true_topic\n",
    "    elif predicted_topic == alternative_true_topic:\n",
    "        return alternative_true_topic\n",
    "    else:\n",
    "        return true_topic\n",
    "df[\"topic_relaxed\"] = df.apply(relaxed_topic, axis=1)"
   ]
  },
  {
   "cell_type": "code",
   "execution_count": 35,
   "metadata": {},
   "outputs": [
    {
     "name": "stderr",
     "output_type": "stream",
     "text": [
      "/home/invernici/anaconda3/envs/text_analysis/lib/python3.10/site-packages/sklearn/metrics/_classification.py:1344: UndefinedMetricWarning: Precision and F-score are ill-defined and being set to 0.0 in labels with no predicted samples. Use `zero_division` parameter to control this behavior.\n",
      "  _warn_prf(average, modifier, msg_start, len(result))\n",
      "/home/invernici/anaconda3/envs/text_analysis/lib/python3.10/site-packages/sklearn/metrics/_classification.py:1344: UndefinedMetricWarning: Recall and F-score are ill-defined and being set to 0.0 in labels with no true samples. Use `zero_division` parameter to control this behavior.\n",
      "  _warn_prf(average, modifier, msg_start, len(result))\n"
     ]
    },
    {
     "data": {
      "text/plain": [
       "(0.8666666666666666, 0.86, 0.8536666666666668, None)"
      ]
     },
     "execution_count": 35,
     "metadata": {},
     "output_type": "execute_result"
    }
   ],
   "source": [
    "precision_recall_fscore_support(df[[\"topic_relaxed\"]], df[[\"topic_id\"]], average=\"weighted\")"
   ]
  },
  {
   "cell_type": "code",
   "execution_count": 36,
   "metadata": {},
   "outputs": [
    {
     "data": {
      "text/plain": [
       "(0.86, 0.86, 0.8599999999999999, None)"
      ]
     },
     "execution_count": 36,
     "metadata": {},
     "output_type": "execute_result"
    }
   ],
   "source": [
    "precision_recall_fscore_support(df[[\"topic_relaxed\"]], df[[\"topic_id\"]], average=\"micro\")"
   ]
  },
  {
   "cell_type": "code",
   "execution_count": 41,
   "metadata": {},
   "outputs": [
    {
     "name": "stderr",
     "output_type": "stream",
     "text": [
      "/home/invernici/anaconda3/envs/text_analysis/lib/python3.10/site-packages/sklearn/metrics/_classification.py:1344: UndefinedMetricWarning: Precision and F-score are ill-defined and being set to 0.0 in labels with no predicted samples. Use `zero_division` parameter to control this behavior.\n",
      "  _warn_prf(average, modifier, msg_start, len(result))\n",
      "/home/invernici/anaconda3/envs/text_analysis/lib/python3.10/site-packages/sklearn/metrics/_classification.py:1344: UndefinedMetricWarning: Recall and F-score are ill-defined and being set to 0.0 in labels with no true samples. Use `zero_division` parameter to control this behavior.\n",
      "  _warn_prf(average, modifier, msg_start, len(result))\n"
     ]
    },
    {
     "data": {
      "text/plain": [
       "(0.5887681159420289, 0.6413043478260869, 0.6064182194616976, None)"
      ]
     },
     "execution_count": 41,
     "metadata": {},
     "output_type": "execute_result"
    }
   ],
   "source": [
    "precision_recall_fscore_support(df[[\"TOPIC_ID CORRETTO\"]], df[[\"topic_id\"]], average=\"macro\")"
   ]
  },
  {
   "cell_type": "code",
   "execution_count": 57,
   "metadata": {},
   "outputs": [
    {
     "name": "stdout",
     "output_type": "stream",
     "text": [
      "Type: micro\tPrecision: 0.860\tRecall: 0.860\tF1: 0.860\n",
      "Type: macro\tPrecision: 0.748\tRecall: 0.771\tF1: 0.753\n",
      "Type: weighted\tPrecision: 0.867\tRecall: 0.860\tF1: 0.854\n"
     ]
    }
   ],
   "source": [
    "for t in [\"micro\", \"macro\", \"weighted\"]:\n",
    "    res = precision_recall_fscore_support(df[[\"topic_relaxed\"]], df[[\"topic_id\"]], average=t, zero_division=0)\n",
    "    print(f\"Type: {t}\\tPrecision: {res[0]:.3f}\\tRecall: {res[1]:.3f}\\tF1: {res[2]:.3f}\")"
   ]
  },
  {
   "cell_type": "code",
   "execution_count": 58,
   "metadata": {},
   "outputs": [
    {
     "name": "stdout",
     "output_type": "stream",
     "text": [
      "Type: micro\tPrecision: 0.740\tRecall: 0.740\tF1: 0.740\n",
      "Type: macro\tPrecision: 0.589\tRecall: 0.641\tF1: 0.606\n",
      "Type: weighted\tPrecision: 0.685\tRecall: 0.740\tF1: 0.702\n"
     ]
    }
   ],
   "source": [
    "for t in [\"micro\", \"macro\", \"weighted\"]:\n",
    "    res = precision_recall_fscore_support(df[[\"TOPIC_ID CORRETTO\"]], df[[\"topic_id\"]], average=t, zero_division=0)\n",
    "    print(f\"Type: {t}\\tPrecision: {res[0]:.3f}\\tRecall: {res[1]:.3f}\\tF1: {res[2]:.3f}\")"
   ]
  },
  {
   "cell_type": "code",
   "execution_count": null,
   "metadata": {},
   "outputs": [],
   "source": []
  }
 ],
 "metadata": {
  "kernelspec": {
   "display_name": "text_analysis",
   "language": "python",
   "name": "python3"
  },
  "language_info": {
   "codemirror_mode": {
    "name": "ipython",
    "version": 3
   },
   "file_extension": ".py",
   "mimetype": "text/x-python",
   "name": "python",
   "nbconvert_exporter": "python",
   "pygments_lexer": "ipython3",
   "version": "3.10.10"
  }
 },
 "nbformat": 4,
 "nbformat_minor": 2
}
