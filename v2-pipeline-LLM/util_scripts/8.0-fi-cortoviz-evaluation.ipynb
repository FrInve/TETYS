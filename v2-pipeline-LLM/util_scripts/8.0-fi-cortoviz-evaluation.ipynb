{
 "cells": [
  {
   "cell_type": "code",
   "execution_count": 21,
   "metadata": {},
   "outputs": [],
   "source": [
    "import pandas as pd\n",
    "import requests\n",
    "import json\n",
    "from tqdm import tqdm\n",
    "import datetime as dt\n",
    "from time import sleep\n",
    "import seaborn as sns\n",
    "import matplotlib.pyplot as plt\n",
    "from bertopic import BERTopic\n",
    "from ydata_profiling import ProfileReport"
   ]
  },
  {
   "cell_type": "markdown",
   "metadata": {},
   "source": [
    "## Retrieve articles from SpringerNature APIs"
   ]
  },
  {
   "cell_type": "code",
   "execution_count": 8,
   "metadata": {},
   "outputs": [],
   "source": [
    "def get_articles(start):\n",
    "    base_url = \"http://api.springernature.com/meta/v2/json\"\n",
    "\n",
    "    parameters = {\n",
    "    \"q\":'keyword:COVID-19 onlinedatefrom:2022-07-01 onlinedateto:2022-12-31 openaccess:true language:en type:Journal',\n",
    "    \"p\":100,\n",
    "    \"s\":start,\n",
    "    \"api_key\" : \"7f0d42dbadd8d07fccff6f917ae9b03b\"\n",
    "    }\n",
    "    response = requests.get(base_url, params=parameters)\n",
    "    try:\n",
    "        content = json.loads(response.content)\n",
    "        records = content[\"records\"]\n",
    "    except:\n",
    "        records = []\n",
    "    return records"
   ]
  },
  {
   "cell_type": "code",
   "execution_count": 39,
   "metadata": {},
   "outputs": [
    {
     "name": "stderr",
     "output_type": "stream",
     "text": [
      "100%|██████████| 21/21 [00:51<00:00,  2.43s/it]\n"
     ]
    }
   ],
   "source": [
    "records = []\n",
    "for start in tqdm(range(1, 2023, 100)):\n",
    "    records += get_articles(start)\n",
    "    sleep(0.3)"
   ]
  },
  {
   "cell_type": "code",
   "execution_count": 40,
   "metadata": {},
   "outputs": [
    {
     "data": {
      "text/plain": [
       "2023"
      ]
     },
     "execution_count": 40,
     "metadata": {},
     "output_type": "execute_result"
    }
   ],
   "source": [
    "len(records)"
   ]
  },
  {
   "cell_type": "code",
   "execution_count": 41,
   "metadata": {},
   "outputs": [],
   "source": [
    "with open(\"../data/raw/cortoviz_evaluation/articles.json\", \"w\") as json_dump:\n",
    "    json.dump(records, json_dump)"
   ]
  },
  {
   "cell_type": "code",
   "execution_count": 42,
   "metadata": {},
   "outputs": [
    {
     "data": {
      "text/html": [
       "<div>\n",
       "<style scoped>\n",
       "    .dataframe tbody tr th:only-of-type {\n",
       "        vertical-align: middle;\n",
       "    }\n",
       "\n",
       "    .dataframe tbody tr th {\n",
       "        vertical-align: top;\n",
       "    }\n",
       "\n",
       "    .dataframe thead th {\n",
       "        text-align: right;\n",
       "    }\n",
       "</style>\n",
       "<table border=\"1\" class=\"dataframe\">\n",
       "  <thead>\n",
       "    <tr style=\"text-align: right;\">\n",
       "      <th></th>\n",
       "      <th>contentType</th>\n",
       "      <th>identifier</th>\n",
       "      <th>language</th>\n",
       "      <th>url</th>\n",
       "      <th>title</th>\n",
       "      <th>creators</th>\n",
       "      <th>publicationName</th>\n",
       "      <th>openaccess</th>\n",
       "      <th>doi</th>\n",
       "      <th>publisher</th>\n",
       "      <th>...</th>\n",
       "      <th>journalId</th>\n",
       "      <th>printDate</th>\n",
       "      <th>onlineDate</th>\n",
       "      <th>coverDate</th>\n",
       "      <th>copyright</th>\n",
       "      <th>abstract</th>\n",
       "      <th>conferenceInfo</th>\n",
       "      <th>keyword</th>\n",
       "      <th>subjects</th>\n",
       "      <th>disciplines</th>\n",
       "    </tr>\n",
       "  </thead>\n",
       "  <tbody>\n",
       "    <tr>\n",
       "      <th>0</th>\n",
       "      <td>Article</td>\n",
       "      <td>doi:10.1007/s11116-022-10329-1</td>\n",
       "      <td>en</td>\n",
       "      <td>[{'format': 'html', 'platform': 'web', 'value'...</td>\n",
       "      <td>A bifurcation of the peak: new patterns of tra...</td>\n",
       "      <td>[{'ORCID': '0000-0002-7247-2563', 'creator': '...</td>\n",
       "      <td>Transportation</td>\n",
       "      <td>true</td>\n",
       "      <td>10.1007/s11116-022-10329-1</td>\n",
       "      <td>Springer</td>\n",
       "      <td>...</td>\n",
       "      <td>11116</td>\n",
       "      <td>2024-03-06</td>\n",
       "      <td>2022-09-09</td>\n",
       "      <td>2024-04</td>\n",
       "      <td>©2022 The Author(s)</td>\n",
       "      <td>This paper analyzes the emergence of two well-...</td>\n",
       "      <td>[]</td>\n",
       "      <td>[COVID-19, Traffic flow, Diurnal curve, Mornin...</td>\n",
       "      <td>[Economics, Regional/Spatial Science, Economic...</td>\n",
       "      <td>[{'id': '4667', 'term': 'Regional and Spatial ...</td>\n",
       "    </tr>\n",
       "    <tr>\n",
       "      <th>1</th>\n",
       "      <td>Article</td>\n",
       "      <td>doi:10.1007/s00508-022-02127-7</td>\n",
       "      <td>en</td>\n",
       "      <td>[{'format': 'html', 'platform': 'web', 'value'...</td>\n",
       "      <td>Ethics teaching in medical school: the percept...</td>\n",
       "      <td>[{'ORCID': '0000-0002-1824-0024', 'creator': '...</td>\n",
       "      <td>Wiener klinische Wochenschrift</td>\n",
       "      <td>true</td>\n",
       "      <td>10.1007/s00508-022-02127-7</td>\n",
       "      <td>Springer</td>\n",
       "      <td>...</td>\n",
       "      <td>508</td>\n",
       "      <td>2024-03-13</td>\n",
       "      <td>2022-12-22</td>\n",
       "      <td>2024-03</td>\n",
       "      <td>©2022 The Author(s)</td>\n",
       "      <td>Background In times of a pandemic, morals and ...</td>\n",
       "      <td>[]</td>\n",
       "      <td>[Medical ethics, Healthcare ethics, Ethics edu...</td>\n",
       "      <td>[Medicine &amp; Public Health, Medicine/Public Hea...</td>\n",
       "      <td>[{'id': '2977', 'term': 'Public Health'}, {'id...</td>\n",
       "    </tr>\n",
       "    <tr>\n",
       "      <th>2</th>\n",
       "      <td>Article</td>\n",
       "      <td>doi:10.1007/s40653-022-00509-7</td>\n",
       "      <td>en</td>\n",
       "      <td>[{'format': 'html', 'platform': 'web', 'value'...</td>\n",
       "      <td>The Effect of School Bullying on Pupils’ Perce...</td>\n",
       "      <td>[{'creator': 'Kirkham, Elizabeth J.'}, {'creat...</td>\n",
       "      <td>Journal of Child &amp; Adolescent Trauma</td>\n",
       "      <td>true</td>\n",
       "      <td>10.1007/s40653-022-00509-7</td>\n",
       "      <td>Springer</td>\n",
       "      <td>...</td>\n",
       "      <td>40653</td>\n",
       "      <td>2024-03-13</td>\n",
       "      <td>2022-12-22</td>\n",
       "      <td>2024-03</td>\n",
       "      <td>©2022 The Author(s)</td>\n",
       "      <td>Purpose: Establishing how the Covid-19 pandemi...</td>\n",
       "      <td>[]</td>\n",
       "      <td>[Bullying, Covid-19, Adolescents, School, Lock...</td>\n",
       "      <td>[Psychology, Child and School Psychology, Soci...</td>\n",
       "      <td>[{'id': '7646', 'term': 'School Psychology'}, ...</td>\n",
       "    </tr>\n",
       "    <tr>\n",
       "      <th>3</th>\n",
       "      <td>Article</td>\n",
       "      <td>doi:10.1007/s11109-022-09842-x</td>\n",
       "      <td>en</td>\n",
       "      <td>[{'format': 'html', 'platform': 'web', 'value'...</td>\n",
       "      <td>The Unequal Effects of the COVID-19 Pandemic o...</td>\n",
       "      <td>[{'ORCID': '0000-0003-0184-0055', 'creator': '...</td>\n",
       "      <td>Political Behavior</td>\n",
       "      <td>true</td>\n",
       "      <td>10.1007/s11109-022-09842-x</td>\n",
       "      <td>Springer</td>\n",
       "      <td>...</td>\n",
       "      <td>11109</td>\n",
       "      <td>2024-02-05</td>\n",
       "      <td>2022-12-31</td>\n",
       "      <td>2024-03</td>\n",
       "      <td>©2022 The Author(s)</td>\n",
       "      <td>The COVID-19 pandemic is viewed by many as the...</td>\n",
       "      <td>[]</td>\n",
       "      <td>[Political representation, Political behavior,...</td>\n",
       "      <td>[Political Science and International Relations...</td>\n",
       "      <td>[{'id': '3115', 'term': 'Political Science'}, ...</td>\n",
       "    </tr>\n",
       "    <tr>\n",
       "      <th>4</th>\n",
       "      <td>Article</td>\n",
       "      <td>doi:10.1007/s10940-022-09564-7</td>\n",
       "      <td>en</td>\n",
       "      <td>[{'format': 'html', 'platform': 'web', 'value'...</td>\n",
       "      <td>The Effect of COVID-19 Restrictions on Routine...</td>\n",
       "      <td>[{'ORCID': '0000-0002-0184-9896', 'creator': '...</td>\n",
       "      <td>Journal of Quantitative Criminology</td>\n",
       "      <td>true</td>\n",
       "      <td>10.1007/s10940-022-09564-7</td>\n",
       "      <td>Springer</td>\n",
       "      <td>...</td>\n",
       "      <td>10940</td>\n",
       "      <td>2024-02-28</td>\n",
       "      <td>2022-12-08</td>\n",
       "      <td>2024-03</td>\n",
       "      <td>©2022 The Author(s)</td>\n",
       "      <td>Objectives Routine activity theory suggests th...</td>\n",
       "      <td>[]</td>\n",
       "      <td>[Online fraud, Online hacking, Doorstep fraud,...</td>\n",
       "      <td>[Criminology and Criminal Justice, Criminology...</td>\n",
       "      <td>[{'id': '2945', 'term': 'Criminology'}, {'id':...</td>\n",
       "    </tr>\n",
       "  </tbody>\n",
       "</table>\n",
       "<p>5 rows × 32 columns</p>\n",
       "</div>"
      ],
      "text/plain": [
       "  contentType                      identifier language  \\\n",
       "0     Article  doi:10.1007/s11116-022-10329-1       en   \n",
       "1     Article  doi:10.1007/s00508-022-02127-7       en   \n",
       "2     Article  doi:10.1007/s40653-022-00509-7       en   \n",
       "3     Article  doi:10.1007/s11109-022-09842-x       en   \n",
       "4     Article  doi:10.1007/s10940-022-09564-7       en   \n",
       "\n",
       "                                                 url  \\\n",
       "0  [{'format': 'html', 'platform': 'web', 'value'...   \n",
       "1  [{'format': 'html', 'platform': 'web', 'value'...   \n",
       "2  [{'format': 'html', 'platform': 'web', 'value'...   \n",
       "3  [{'format': 'html', 'platform': 'web', 'value'...   \n",
       "4  [{'format': 'html', 'platform': 'web', 'value'...   \n",
       "\n",
       "                                               title  \\\n",
       "0  A bifurcation of the peak: new patterns of tra...   \n",
       "1  Ethics teaching in medical school: the percept...   \n",
       "2  The Effect of School Bullying on Pupils’ Perce...   \n",
       "3  The Unequal Effects of the COVID-19 Pandemic o...   \n",
       "4  The Effect of COVID-19 Restrictions on Routine...   \n",
       "\n",
       "                                            creators  \\\n",
       "0  [{'ORCID': '0000-0002-7247-2563', 'creator': '...   \n",
       "1  [{'ORCID': '0000-0002-1824-0024', 'creator': '...   \n",
       "2  [{'creator': 'Kirkham, Elizabeth J.'}, {'creat...   \n",
       "3  [{'ORCID': '0000-0003-0184-0055', 'creator': '...   \n",
       "4  [{'ORCID': '0000-0002-0184-9896', 'creator': '...   \n",
       "\n",
       "                        publicationName openaccess  \\\n",
       "0                        Transportation       true   \n",
       "1        Wiener klinische Wochenschrift       true   \n",
       "2  Journal of Child & Adolescent Trauma       true   \n",
       "3                    Political Behavior       true   \n",
       "4   Journal of Quantitative Criminology       true   \n",
       "\n",
       "                          doi publisher  ... journalId   printDate  \\\n",
       "0  10.1007/s11116-022-10329-1  Springer  ...     11116  2024-03-06   \n",
       "1  10.1007/s00508-022-02127-7  Springer  ...       508  2024-03-13   \n",
       "2  10.1007/s40653-022-00509-7  Springer  ...     40653  2024-03-13   \n",
       "3  10.1007/s11109-022-09842-x  Springer  ...     11109  2024-02-05   \n",
       "4  10.1007/s10940-022-09564-7  Springer  ...     10940  2024-02-28   \n",
       "\n",
       "   onlineDate coverDate            copyright  \\\n",
       "0  2022-09-09   2024-04  ©2022 The Author(s)   \n",
       "1  2022-12-22   2024-03  ©2022 The Author(s)   \n",
       "2  2022-12-22   2024-03  ©2022 The Author(s)   \n",
       "3  2022-12-31   2024-03  ©2022 The Author(s)   \n",
       "4  2022-12-08   2024-03  ©2022 The Author(s)   \n",
       "\n",
       "                                            abstract conferenceInfo  \\\n",
       "0  This paper analyzes the emergence of two well-...             []   \n",
       "1  Background In times of a pandemic, morals and ...             []   \n",
       "2  Purpose: Establishing how the Covid-19 pandemi...             []   \n",
       "3  The COVID-19 pandemic is viewed by many as the...             []   \n",
       "4  Objectives Routine activity theory suggests th...             []   \n",
       "\n",
       "                                             keyword  \\\n",
       "0  [COVID-19, Traffic flow, Diurnal curve, Mornin...   \n",
       "1  [Medical ethics, Healthcare ethics, Ethics edu...   \n",
       "2  [Bullying, Covid-19, Adolescents, School, Lock...   \n",
       "3  [Political representation, Political behavior,...   \n",
       "4  [Online fraud, Online hacking, Doorstep fraud,...   \n",
       "\n",
       "                                            subjects  \\\n",
       "0  [Economics, Regional/Spatial Science, Economic...   \n",
       "1  [Medicine & Public Health, Medicine/Public Hea...   \n",
       "2  [Psychology, Child and School Psychology, Soci...   \n",
       "3  [Political Science and International Relations...   \n",
       "4  [Criminology and Criminal Justice, Criminology...   \n",
       "\n",
       "                                         disciplines  \n",
       "0  [{'id': '4667', 'term': 'Regional and Spatial ...  \n",
       "1  [{'id': '2977', 'term': 'Public Health'}, {'id...  \n",
       "2  [{'id': '7646', 'term': 'School Psychology'}, ...  \n",
       "3  [{'id': '3115', 'term': 'Political Science'}, ...  \n",
       "4  [{'id': '2945', 'term': 'Criminology'}, {'id':...  \n",
       "\n",
       "[5 rows x 32 columns]"
      ]
     },
     "execution_count": 42,
     "metadata": {},
     "output_type": "execute_result"
    }
   ],
   "source": [
    "df = pd.read_json(json.dumps(records))\n",
    "df.head()"
   ]
  },
  {
   "cell_type": "code",
   "execution_count": 43,
   "metadata": {},
   "outputs": [],
   "source": [
    "df.to_csv(\"../data/raw/cortoviz_evaluation/articles.csv\",header=True)"
   ]
  },
  {
   "cell_type": "markdown",
   "metadata": {},
   "source": [
    "## Topic inference"
   ]
  },
  {
   "cell_type": "code",
   "execution_count": 23,
   "metadata": {},
   "outputs": [],
   "source": [
    "topic_model = BERTopic.load(\"../models/BERTopic_full_2023-04-18\", embedding_model=\"pritamdeka/BioBERT-mnli-snli-scinli-scitail-mednli-stsb\")"
   ]
  },
  {
   "cell_type": "code",
   "execution_count": 44,
   "metadata": {},
   "outputs": [],
   "source": [
    "df[\"full\"] = df.title + \". \" + df.abstract"
   ]
  },
  {
   "cell_type": "code",
   "execution_count": 45,
   "metadata": {},
   "outputs": [
    {
     "data": {
      "application/vnd.jupyter.widget-view+json": {
       "model_id": "1acd7da7121c4c49a995953f45c75492",
       "version_major": 2,
       "version_minor": 0
      },
      "text/plain": [
       "Batches:   0%|          | 0/64 [00:00<?, ?it/s]"
      ]
     },
     "metadata": {},
     "output_type": "display_data"
    }
   ],
   "source": [
    "predicted_topics = topic_model.transform(df.full)"
   ]
  },
  {
   "cell_type": "code",
   "execution_count": 47,
   "metadata": {},
   "outputs": [],
   "source": [
    "df[\"topic_id\"] = predicted_topics[0]"
   ]
  },
  {
   "cell_type": "code",
   "execution_count": 48,
   "metadata": {},
   "outputs": [],
   "source": [
    "df[\"topic_prob\"] = predicted_topics[1]"
   ]
  },
  {
   "cell_type": "code",
   "execution_count": 51,
   "metadata": {},
   "outputs": [
    {
     "data": {
      "text/plain": [
       "(555, 35)"
      ]
     },
     "execution_count": 51,
     "metadata": {},
     "output_type": "execute_result"
    }
   ],
   "source": [
    "df[df.topic_id != -1]"
   ]
  },
  {
   "cell_type": "code",
   "execution_count": null,
   "metadata": {},
   "outputs": [],
   "source": [
    "df[\"topic_info\"] "
   ]
  },
  {
   "cell_type": "code",
   "execution_count": 76,
   "metadata": {},
   "outputs": [],
   "source": [
    "def print_info(position):\n",
    "    predicted = predicted_topics[0][position]\n",
    "    print(\"----\")\n",
    "    print(df.full.loc[position])\n",
    "    print(topic_model.get_topic_info(predicted).Name[0])\n",
    "    print(topic_model.get_topic_info(predicted).Count[0])\n",
    "    print(topic_model.get_topic(predicted))"
   ]
  },
  {
   "cell_type": "code",
   "execution_count": 77,
   "metadata": {},
   "outputs": [
    {
     "name": "stdout",
     "output_type": "stream",
     "text": [
      "----\n",
      "Link between structural risk factors for adverse impacts of COVID-19 and food insecurity in developed and developing countries. COVID-19 has had serious consequences for world food security; lockdowns and social distancing have led to changes in global food value chains, primarily affecting the poorest of the planet. The aim of this research is to analyse the relationship between food insecurity and the structural risk factors for adverse impacts of COVID-19. To that end, 12 contingency tables are constructed to identify the association between the pillars of the food insecurity index and the INFORM COVID-19 Risk Index. We use the Gamma coefficient as a measure of association. In addition, this paper proposes a synthetic index produced by applying the TOPSIS method, using the pillars of the two aforementioned indices (criteria) to establish a ranking of 112 countries (alternatives) ordered from highest to lowest risk faced in the key year of the pandemic, 2020. The results show that the two problems are connected, indicating to international organizations that countries with worse food insecurity will suffer more serious consequences from extreme situations such as the one experienced during the pandemic. The ranking established directs international organizations' attention to countries such as Haiti, Zambia and Burundi, highlighting their greater need for an injection of financial aid than other emerging economies. Conversely, Switzerland is the country with the lowest combined risk.\n",
      "100_food-related_malnutrition_poverty_diets\n",
      "343\n",
      "[('food-related', 0.36440158), ('malnutrition', 0.33214188), ('poverty', 0.33059698), ('diets', 0.29215363), ('farmers', 0.2916861), ('farm', 0.29144192), ('eatwellcovid19', 0.2854495), ('households', 0.28123915), ('farming', 0.26214927), ('low-income', 0.2556248)]\n"
     ]
    }
   ],
   "source": [
    "print_info(11)"
   ]
  },
  {
   "cell_type": "code",
   "execution_count": 78,
   "metadata": {},
   "outputs": [],
   "source": [
    "df[\"topic_name\"] = df.topic_id.map(lambda x: topic_model.get_topic_info(x).Name[0])\n",
    "df[\"topic_count\"] = df.topic_id.map(lambda x: topic_model.get_topic_info(x).Count[0])\n",
    "df[\"topic_terms\"] = df.topic_id.map(lambda x: topic_model.get_topic(x))"
   ]
  },
  {
   "cell_type": "code",
   "execution_count": 79,
   "metadata": {},
   "outputs": [
    {
     "data": {
      "text/html": [
       "<div>\n",
       "<style scoped>\n",
       "    .dataframe tbody tr th:only-of-type {\n",
       "        vertical-align: middle;\n",
       "    }\n",
       "\n",
       "    .dataframe tbody tr th {\n",
       "        vertical-align: top;\n",
       "    }\n",
       "\n",
       "    .dataframe thead th {\n",
       "        text-align: right;\n",
       "    }\n",
       "</style>\n",
       "<table border=\"1\" class=\"dataframe\">\n",
       "  <thead>\n",
       "    <tr style=\"text-align: right;\">\n",
       "      <th></th>\n",
       "      <th>contentType</th>\n",
       "      <th>identifier</th>\n",
       "      <th>language</th>\n",
       "      <th>url</th>\n",
       "      <th>title</th>\n",
       "      <th>creators</th>\n",
       "      <th>publicationName</th>\n",
       "      <th>openaccess</th>\n",
       "      <th>doi</th>\n",
       "      <th>publisher</th>\n",
       "      <th>...</th>\n",
       "      <th>conferenceInfo</th>\n",
       "      <th>keyword</th>\n",
       "      <th>subjects</th>\n",
       "      <th>disciplines</th>\n",
       "      <th>full</th>\n",
       "      <th>topic_id</th>\n",
       "      <th>topic_prob</th>\n",
       "      <th>topic_name</th>\n",
       "      <th>topic_count</th>\n",
       "      <th>topic_terms</th>\n",
       "    </tr>\n",
       "  </thead>\n",
       "  <tbody>\n",
       "    <tr>\n",
       "      <th>0</th>\n",
       "      <td>Article</td>\n",
       "      <td>doi:10.1007/s11116-022-10329-1</td>\n",
       "      <td>en</td>\n",
       "      <td>[{'format': 'html', 'platform': 'web', 'value'...</td>\n",
       "      <td>A bifurcation of the peak: new patterns of tra...</td>\n",
       "      <td>[{'ORCID': '0000-0002-7247-2563', 'creator': '...</td>\n",
       "      <td>Transportation</td>\n",
       "      <td>true</td>\n",
       "      <td>10.1007/s11116-022-10329-1</td>\n",
       "      <td>Springer</td>\n",
       "      <td>...</td>\n",
       "      <td>[]</td>\n",
       "      <td>[COVID-19, Traffic flow, Diurnal curve, Mornin...</td>\n",
       "      <td>[Economics, Regional/Spatial Science, Economic...</td>\n",
       "      <td>[{'id': '4667', 'term': 'Regional and Spatial ...</td>\n",
       "      <td>A bifurcation of the peak: new patterns of tra...</td>\n",
       "      <td>-1</td>\n",
       "      <td>0.0</td>\n",
       "      <td>-1_cohort_vaccines_epidemic_pneumonia</td>\n",
       "      <td>247546</td>\n",
       "      <td>[(cohort, 0.3572387), (vaccines, 0.3052731), (...</td>\n",
       "    </tr>\n",
       "    <tr>\n",
       "      <th>1</th>\n",
       "      <td>Article</td>\n",
       "      <td>doi:10.1007/s00508-022-02127-7</td>\n",
       "      <td>en</td>\n",
       "      <td>[{'format': 'html', 'platform': 'web', 'value'...</td>\n",
       "      <td>Ethics teaching in medical school: the percept...</td>\n",
       "      <td>[{'ORCID': '0000-0002-1824-0024', 'creator': '...</td>\n",
       "      <td>Wiener klinische Wochenschrift</td>\n",
       "      <td>true</td>\n",
       "      <td>10.1007/s00508-022-02127-7</td>\n",
       "      <td>Springer</td>\n",
       "      <td>...</td>\n",
       "      <td>[]</td>\n",
       "      <td>[Medical ethics, Healthcare ethics, Ethics edu...</td>\n",
       "      <td>[Medicine &amp; Public Health, Medicine/Public Hea...</td>\n",
       "      <td>[{'id': '2977', 'term': 'Public Health'}, {'id...</td>\n",
       "      <td>Ethics teaching in medical school: the percept...</td>\n",
       "      <td>-1</td>\n",
       "      <td>0.0</td>\n",
       "      <td>-1_cohort_vaccines_epidemic_pneumonia</td>\n",
       "      <td>247546</td>\n",
       "      <td>[(cohort, 0.3572387), (vaccines, 0.3052731), (...</td>\n",
       "    </tr>\n",
       "    <tr>\n",
       "      <th>2</th>\n",
       "      <td>Article</td>\n",
       "      <td>doi:10.1007/s40653-022-00509-7</td>\n",
       "      <td>en</td>\n",
       "      <td>[{'format': 'html', 'platform': 'web', 'value'...</td>\n",
       "      <td>The Effect of School Bullying on Pupils’ Perce...</td>\n",
       "      <td>[{'creator': 'Kirkham, Elizabeth J.'}, {'creat...</td>\n",
       "      <td>Journal of Child &amp; Adolescent Trauma</td>\n",
       "      <td>true</td>\n",
       "      <td>10.1007/s40653-022-00509-7</td>\n",
       "      <td>Springer</td>\n",
       "      <td>...</td>\n",
       "      <td>[]</td>\n",
       "      <td>[Bullying, Covid-19, Adolescents, School, Lock...</td>\n",
       "      <td>[Psychology, Child and School Psychology, Soci...</td>\n",
       "      <td>[{'id': '7646', 'term': 'School Psychology'}, ...</td>\n",
       "      <td>The Effect of School Bullying on Pupils’ Perce...</td>\n",
       "      <td>-1</td>\n",
       "      <td>0.0</td>\n",
       "      <td>-1_cohort_vaccines_epidemic_pneumonia</td>\n",
       "      <td>247546</td>\n",
       "      <td>[(cohort, 0.3572387), (vaccines, 0.3052731), (...</td>\n",
       "    </tr>\n",
       "    <tr>\n",
       "      <th>3</th>\n",
       "      <td>Article</td>\n",
       "      <td>doi:10.1007/s11109-022-09842-x</td>\n",
       "      <td>en</td>\n",
       "      <td>[{'format': 'html', 'platform': 'web', 'value'...</td>\n",
       "      <td>The Unequal Effects of the COVID-19 Pandemic o...</td>\n",
       "      <td>[{'ORCID': '0000-0003-0184-0055', 'creator': '...</td>\n",
       "      <td>Political Behavior</td>\n",
       "      <td>true</td>\n",
       "      <td>10.1007/s11109-022-09842-x</td>\n",
       "      <td>Springer</td>\n",
       "      <td>...</td>\n",
       "      <td>[]</td>\n",
       "      <td>[Political representation, Political behavior,...</td>\n",
       "      <td>[Political Science and International Relations...</td>\n",
       "      <td>[{'id': '3115', 'term': 'Political Science'}, ...</td>\n",
       "      <td>The Unequal Effects of the COVID-19 Pandemic o...</td>\n",
       "      <td>-1</td>\n",
       "      <td>0.0</td>\n",
       "      <td>-1_cohort_vaccines_epidemic_pneumonia</td>\n",
       "      <td>247546</td>\n",
       "      <td>[(cohort, 0.3572387), (vaccines, 0.3052731), (...</td>\n",
       "    </tr>\n",
       "    <tr>\n",
       "      <th>4</th>\n",
       "      <td>Article</td>\n",
       "      <td>doi:10.1007/s10940-022-09564-7</td>\n",
       "      <td>en</td>\n",
       "      <td>[{'format': 'html', 'platform': 'web', 'value'...</td>\n",
       "      <td>The Effect of COVID-19 Restrictions on Routine...</td>\n",
       "      <td>[{'ORCID': '0000-0002-0184-9896', 'creator': '...</td>\n",
       "      <td>Journal of Quantitative Criminology</td>\n",
       "      <td>true</td>\n",
       "      <td>10.1007/s10940-022-09564-7</td>\n",
       "      <td>Springer</td>\n",
       "      <td>...</td>\n",
       "      <td>[]</td>\n",
       "      <td>[Online fraud, Online hacking, Doorstep fraud,...</td>\n",
       "      <td>[Criminology and Criminal Justice, Criminology...</td>\n",
       "      <td>[{'id': '2945', 'term': 'Criminology'}, {'id':...</td>\n",
       "      <td>The Effect of COVID-19 Restrictions on Routine...</td>\n",
       "      <td>-1</td>\n",
       "      <td>0.0</td>\n",
       "      <td>-1_cohort_vaccines_epidemic_pneumonia</td>\n",
       "      <td>247546</td>\n",
       "      <td>[(cohort, 0.3572387), (vaccines, 0.3052731), (...</td>\n",
       "    </tr>\n",
       "  </tbody>\n",
       "</table>\n",
       "<p>5 rows × 38 columns</p>\n",
       "</div>"
      ],
      "text/plain": [
       "  contentType                      identifier language  \\\n",
       "0     Article  doi:10.1007/s11116-022-10329-1       en   \n",
       "1     Article  doi:10.1007/s00508-022-02127-7       en   \n",
       "2     Article  doi:10.1007/s40653-022-00509-7       en   \n",
       "3     Article  doi:10.1007/s11109-022-09842-x       en   \n",
       "4     Article  doi:10.1007/s10940-022-09564-7       en   \n",
       "\n",
       "                                                 url  \\\n",
       "0  [{'format': 'html', 'platform': 'web', 'value'...   \n",
       "1  [{'format': 'html', 'platform': 'web', 'value'...   \n",
       "2  [{'format': 'html', 'platform': 'web', 'value'...   \n",
       "3  [{'format': 'html', 'platform': 'web', 'value'...   \n",
       "4  [{'format': 'html', 'platform': 'web', 'value'...   \n",
       "\n",
       "                                               title  \\\n",
       "0  A bifurcation of the peak: new patterns of tra...   \n",
       "1  Ethics teaching in medical school: the percept...   \n",
       "2  The Effect of School Bullying on Pupils’ Perce...   \n",
       "3  The Unequal Effects of the COVID-19 Pandemic o...   \n",
       "4  The Effect of COVID-19 Restrictions on Routine...   \n",
       "\n",
       "                                            creators  \\\n",
       "0  [{'ORCID': '0000-0002-7247-2563', 'creator': '...   \n",
       "1  [{'ORCID': '0000-0002-1824-0024', 'creator': '...   \n",
       "2  [{'creator': 'Kirkham, Elizabeth J.'}, {'creat...   \n",
       "3  [{'ORCID': '0000-0003-0184-0055', 'creator': '...   \n",
       "4  [{'ORCID': '0000-0002-0184-9896', 'creator': '...   \n",
       "\n",
       "                        publicationName openaccess  \\\n",
       "0                        Transportation       true   \n",
       "1        Wiener klinische Wochenschrift       true   \n",
       "2  Journal of Child & Adolescent Trauma       true   \n",
       "3                    Political Behavior       true   \n",
       "4   Journal of Quantitative Criminology       true   \n",
       "\n",
       "                          doi publisher  ... conferenceInfo  \\\n",
       "0  10.1007/s11116-022-10329-1  Springer  ...             []   \n",
       "1  10.1007/s00508-022-02127-7  Springer  ...             []   \n",
       "2  10.1007/s40653-022-00509-7  Springer  ...             []   \n",
       "3  10.1007/s11109-022-09842-x  Springer  ...             []   \n",
       "4  10.1007/s10940-022-09564-7  Springer  ...             []   \n",
       "\n",
       "                                             keyword  \\\n",
       "0  [COVID-19, Traffic flow, Diurnal curve, Mornin...   \n",
       "1  [Medical ethics, Healthcare ethics, Ethics edu...   \n",
       "2  [Bullying, Covid-19, Adolescents, School, Lock...   \n",
       "3  [Political representation, Political behavior,...   \n",
       "4  [Online fraud, Online hacking, Doorstep fraud,...   \n",
       "\n",
       "                                            subjects  \\\n",
       "0  [Economics, Regional/Spatial Science, Economic...   \n",
       "1  [Medicine & Public Health, Medicine/Public Hea...   \n",
       "2  [Psychology, Child and School Psychology, Soci...   \n",
       "3  [Political Science and International Relations...   \n",
       "4  [Criminology and Criminal Justice, Criminology...   \n",
       "\n",
       "                                         disciplines  \\\n",
       "0  [{'id': '4667', 'term': 'Regional and Spatial ...   \n",
       "1  [{'id': '2977', 'term': 'Public Health'}, {'id...   \n",
       "2  [{'id': '7646', 'term': 'School Psychology'}, ...   \n",
       "3  [{'id': '3115', 'term': 'Political Science'}, ...   \n",
       "4  [{'id': '2945', 'term': 'Criminology'}, {'id':...   \n",
       "\n",
       "                                                full topic_id topic_prob  \\\n",
       "0  A bifurcation of the peak: new patterns of tra...       -1        0.0   \n",
       "1  Ethics teaching in medical school: the percept...       -1        0.0   \n",
       "2  The Effect of School Bullying on Pupils’ Perce...       -1        0.0   \n",
       "3  The Unequal Effects of the COVID-19 Pandemic o...       -1        0.0   \n",
       "4  The Effect of COVID-19 Restrictions on Routine...       -1        0.0   \n",
       "\n",
       "                              topic_name topic_count  \\\n",
       "0  -1_cohort_vaccines_epidemic_pneumonia      247546   \n",
       "1  -1_cohort_vaccines_epidemic_pneumonia      247546   \n",
       "2  -1_cohort_vaccines_epidemic_pneumonia      247546   \n",
       "3  -1_cohort_vaccines_epidemic_pneumonia      247546   \n",
       "4  -1_cohort_vaccines_epidemic_pneumonia      247546   \n",
       "\n",
       "                                         topic_terms  \n",
       "0  [(cohort, 0.3572387), (vaccines, 0.3052731), (...  \n",
       "1  [(cohort, 0.3572387), (vaccines, 0.3052731), (...  \n",
       "2  [(cohort, 0.3572387), (vaccines, 0.3052731), (...  \n",
       "3  [(cohort, 0.3572387), (vaccines, 0.3052731), (...  \n",
       "4  [(cohort, 0.3572387), (vaccines, 0.3052731), (...  \n",
       "\n",
       "[5 rows x 38 columns]"
      ]
     },
     "execution_count": 79,
     "metadata": {},
     "output_type": "execute_result"
    }
   ],
   "source": [
    "df.head()"
   ]
  },
  {
   "cell_type": "code",
   "execution_count": 85,
   "metadata": {},
   "outputs": [],
   "source": [
    "df[\"url_web\"] = df.url.map(lambda x: x[0][\"value\"])"
   ]
  },
  {
   "cell_type": "code",
   "execution_count": 90,
   "metadata": {},
   "outputs": [],
   "source": [
    "df.to_csv(\"../data/interim/cortoviz_evaluation/articles.csv\",header=True)"
   ]
  },
  {
   "cell_type": "code",
   "execution_count": 82,
   "metadata": {},
   "outputs": [
    {
     "data": {
      "text/plain": [
       "Index(['contentType', 'identifier', 'language', 'url', 'title', 'creators',\n",
       "       'publicationName', 'openaccess', 'doi', 'publisher', 'publisherName',\n",
       "       'publicationDate', 'publicationType', 'issn', 'eIssn', 'volume',\n",
       "       'number', 'issueType', 'topicalCollection', 'genre', 'startingPage',\n",
       "       'endingPage', 'journalId', 'printDate', 'onlineDate', 'coverDate',\n",
       "       'copyright', 'abstract', 'conferenceInfo', 'keyword', 'subjects',\n",
       "       'disciplines', 'full', 'topic_id', 'topic_prob', 'topic_name',\n",
       "       'topic_count', 'topic_terms'],\n",
       "      dtype='object')"
      ]
     },
     "execution_count": 82,
     "metadata": {},
     "output_type": "execute_result"
    }
   ],
   "source": [
    "df.columns"
   ]
  },
  {
   "cell_type": "code",
   "execution_count": 89,
   "metadata": {},
   "outputs": [],
   "source": [
    "df[df.topic_id != -1].sample(50)[[\"doi\", \"url_web\", \"title\", \"abstract\", \"creators\", \"onlineDate\", \"publicationName\", \"keyword\", \"subjects\", \"topic_id\", \"topic_prob\", \"topic_name\", \"topic_terms\"]].to_excel(\"../data/interim/cortoviz_evaluation/articles_test.xlsx\",header=True, index=False)"
   ]
  },
  {
   "cell_type": "code",
   "execution_count": 100,
   "metadata": {},
   "outputs": [],
   "source": [
    "df_topics = pd.DataFrame.from_dict(topic_model.get_topics(), orient=\"index\")"
   ]
  },
  {
   "cell_type": "code",
   "execution_count": 103,
   "metadata": {},
   "outputs": [],
   "source": [
    "df_topics.loc[1:].to_excel(\"../data/interim/cortoviz_evaluation/topics.xlsx\")"
   ]
  }
 ],
 "metadata": {
  "kernelspec": {
   "display_name": "text_analysis",
   "language": "python",
   "name": "python3"
  },
  "language_info": {
   "codemirror_mode": {
    "name": "ipython",
    "version": 3
   },
   "file_extension": ".py",
   "mimetype": "text/x-python",
   "name": "python",
   "nbconvert_exporter": "python",
   "pygments_lexer": "ipython3",
   "version": "3.10.10"
  }
 },
 "nbformat": 4,
 "nbformat_minor": 2
}
